{
 "cells": [
  {
   "cell_type": "markdown",
   "id": "76c5e005",
   "metadata": {},
   "source": [
    "## Part1: "
   ]
  },
  {
   "cell_type": "code",
   "execution_count": 1,
   "id": "1eba89fb",
   "metadata": {},
   "outputs": [
    {
     "name": "stdout",
     "output_type": "stream",
     "text": [
      "1\n",
      "2\n",
      "3\n",
      "4\n",
      "5\n",
      "6\n",
      "7\n",
      "8\n"
     ]
    }
   ],
   "source": [
    "L=[1,2,3,4,5,6,7,8]\n",
    "for index in range(len(L)):\n",
    "    value = L[index]\n",
    "    print(value)"
   ]
  },
  {
   "cell_type": "code",
   "execution_count": 2,
   "id": "82fda37c",
   "metadata": {},
   "outputs": [
    {
     "name": "stdout",
     "output_type": "stream",
     "text": [
      "0 1\n",
      "1 2\n",
      "2 3\n",
      "3 4\n",
      "4 5\n",
      "5 6\n",
      "6 7\n",
      "7 8\n"
     ]
    }
   ],
   "source": [
    "for index, value in enumerate(L):\n",
    "    print(index, value)"
   ]
  },
  {
   "cell_type": "code",
   "execution_count": 8,
   "id": "3c0ff21b",
   "metadata": {},
   "outputs": [
    {
     "name": "stdout",
     "output_type": "stream",
     "text": [
      "Fruit: apple -> amount: 2\n",
      "Fruit: orange -> amount: 4\n",
      "Fruit: melon -> amount: 2\n",
      "Fruit: banana -> amount: 5\n",
      "Fruit: coconut -> amount: 1\n",
      "Fruit: mango -> amount: 7\n"
     ]
    }
   ],
   "source": [
    "dic = {'apple':2, 'orange':4, 'melon':2, 'banana':5, 'coconut':1, 'mango':7}\n",
    "for key, value in dic.items():\n",
    "    print('Fruit:', key,'->', 'amount:', value)"
   ]
  },
  {
   "cell_type": "code",
   "execution_count": 9,
   "id": "22744482",
   "metadata": {},
   "outputs": [
    {
     "data": {
      "text/plain": [
       "[0, 1, 4, 9, 16, 25]"
      ]
     },
     "execution_count": 9,
     "metadata": {},
     "output_type": "execute_result"
    }
   ],
   "source": [
    "#list comprehension\n",
    "n=5\n",
    "squared= [x**2 for x in range(n+1)]\n",
    "squared"
   ]
  },
  {
   "cell_type": "code",
   "execution_count": 11,
   "id": "855d3dc8",
   "metadata": {},
   "outputs": [
    {
     "data": {
      "text/plain": [
       "{'c': 0, 'o': 0, 'w': 0, 'b': 0, 'y': 0, ' ': 0, 'e': 0, 'p': 0}"
      ]
     },
     "execution_count": 11,
     "metadata": {},
     "output_type": "execute_result"
    }
   ],
   "source": [
    "my_str=\"cowboy bebop\"\n",
    "nb_occurences = {letter: 0 for letter in my_str}\n",
    "nb_occurences"
   ]
  },
  {
   "cell_type": "code",
   "execution_count": 12,
   "id": "fc2e94d1",
   "metadata": {},
   "outputs": [
    {
     "data": {
      "text/plain": [
       "2.0"
      ]
     },
     "execution_count": 12,
     "metadata": {},
     "output_type": "execute_result"
    }
   ],
   "source": [
    "from math import sqrt\n",
    "sqrt(4)"
   ]
  },
  {
   "cell_type": "code",
   "execution_count": 13,
   "id": "b41eb100",
   "metadata": {},
   "outputs": [
    {
     "data": {
      "text/plain": [
       "2.0"
      ]
     },
     "execution_count": 13,
     "metadata": {},
     "output_type": "execute_result"
    }
   ],
   "source": [
    "import math\n",
    "math.sqrt(4)"
   ]
  },
  {
   "cell_type": "code",
   "execution_count": 14,
   "id": "9fd129d8",
   "metadata": {},
   "outputs": [
    {
     "name": "stdout",
     "output_type": "stream",
     "text": [
      "Help on package tryalgo:\n",
      "\n",
      "NAME\n",
      "    tryalgo\n",
      "\n",
      "DESCRIPTION\n",
      "    Tryalgo is a Python library of algorithms and data structures.\n",
      "    It is implemented\n",
      "    by Christoph Dürr (CNRS, Sorbonne Université, LIP6, Paris)\n",
      "    and Jill-Jênn Vie (Inria, Lille)\n",
      "    It is documented in the book \"Programmation efficace, 128 Algorithmes qu'il\n",
      "    faut avoir compris et codés en Python\", editor Ellipses.\n",
      "\n",
      "PACKAGE CONTENTS\n",
      "    anagrams\n",
      "    arithm\n",
      "    arithm_expr_eval\n",
      "    arithm_expr_target\n",
      "    bellman_ford\n",
      "    bfs\n",
      "    biconnected_components\n",
      "    binary_search\n",
      "    bipartite_matching\n",
      "    bipartite_vertex_cover\n",
      "    closest_points\n",
      "    closest_values\n",
      "    convex_hull\n",
      "    dancing_links\n",
      "    dfs\n",
      "    dijkstra\n",
      "    dilworth\n",
      "    dinic\n",
      "    dist_grid\n",
      "    edmonds_karp\n",
      "    eulerian_tour\n",
      "    fast_exponentiation\n",
      "    fenwick\n",
      "    fft\n",
      "    floyd_warshall\n",
      "    ford_fulkerson\n",
      "    freivalds\n",
      "    gale_shapley\n",
      "    gauss_jordan\n",
      "    graph\n",
      "    graph01\n",
      "    horn_sat\n",
      "    huffman\n",
      "    interval_cover\n",
      "    interval_tree\n",
      "    intervals_union\n",
      "    karatsuba\n",
      "    knapsack\n",
      "    knuth_morris_pratt\n",
      "    kruskal\n",
      "    kuhn_munkres\n",
      "    kuhn_munkres_n4\n",
      "    laser_mirrors\n",
      "    left_right_inversions\n",
      "    levenshtein\n",
      "    longest_common_subsequence\n",
      "    longest_increasing_subsequence\n",
      "    lowest_common_ancestor\n",
      "    majority\n",
      "    manacher\n",
      "    matrix_chain_mult\n",
      "    max_interval_intersec\n",
      "    merge_ordered_lists\n",
      "    min_mean_cycle\n",
      "    next_permutation\n",
      "    our_heap\n",
      "    our_queue\n",
      "    our_std\n",
      "    pareto\n",
      "    partition_refinement\n",
      "    permutation_rank\n",
      "    polygon\n",
      "    predictive_text\n",
      "    primes\n",
      "    rabin_karp\n",
      "    range_minimum_query\n",
      "    rectangles_from_grid\n",
      "    rectangles_from_histogram\n",
      "    rectangles_from_points\n",
      "    roman_numbers\n",
      "    scalar\n",
      "    shortest_cycle\n",
      "    skip_list\n",
      "    strongly_connected_components\n",
      "    subsetsum\n",
      "    subsetsum_divide\n",
      "    sudoku\n",
      "    three_partition\n",
      "    topological_order\n",
      "    trie\n",
      "    two_sat\n",
      "    union_rectangles\n",
      "    windows_k_distinct\n",
      "\n",
      "FUNCTIONS\n",
      "    bisect_left(a, x, lo=0, hi=None, *, key=None)\n",
      "        Return the index where to insert item x in list a, assuming a is sorted.\n",
      "        \n",
      "        The return value i is such that all e in a[:i] have e < x, and all e in\n",
      "        a[i:] have e >= x.  So if x already appears in the list, a.insert(i, x) will\n",
      "        insert just before the leftmost x already there.\n",
      "        \n",
      "        Optional args lo (default 0) and hi (default len(a)) bound the\n",
      "        slice of a to be searched.\n",
      "    \n",
      "    bisect_right(a, x, lo=0, hi=None, *, key=None)\n",
      "        Return the index where to insert item x in list a, assuming a is sorted.\n",
      "        \n",
      "        The return value i is such that all e in a[:i] have e <= x, and all e in\n",
      "        a[i:] have e > x.  So if x already appears in the list, a.insert(i, x) will\n",
      "        insert just after the rightmost x already there.\n",
      "        \n",
      "        Optional args lo (default 0) and hi (default len(a)) bound the\n",
      "        slice of a to be searched.\n",
      "    \n",
      "    getrecursionlimit()\n",
      "        Return the current value of the recursion limit.\n",
      "        \n",
      "        The recursion limit is the maximum depth of the Python interpreter\n",
      "        stack.  This limit prevents infinite recursion from causing an overflow\n",
      "        of the C stack and crashing Python.\n",
      "    \n",
      "    heappop(heap, /)\n",
      "        Pop the smallest item off the heap, maintaining the heap invariant.\n",
      "    \n",
      "    heappush(heap, item, /)\n",
      "        Push item onto heap, maintaining the heap invariant.\n",
      "    \n",
      "    setrecursionlimit(limit, /)\n",
      "        Set the maximum depth of the Python interpreter stack to n.\n",
      "        \n",
      "        This limit prevents infinite recursion from causing an overflow of the C\n",
      "        stack and crashing Python.  The highest possible limit is platform-\n",
      "        dependent.\n",
      "    \n",
      "    sqrt(x, /)\n",
      "        Return the square root of x.\n",
      "\n",
      "DATA\n",
      "    CLOSING = -1\n",
      "    DOMAIN = 128\n",
      "    DOWN = 2\n",
      "    GJ_SEVERAL_SOLUTIONS = 2\n",
      "    GJ_SINGLE_SOLUTION = 1\n",
      "    GJ_ZERO_SOLUTIONS = 0\n",
      "    LEFT = 1\n",
      "    OPENING = 1\n",
      "    PRIME = 72057594037927931\n",
      "    PRIORITY = {'(': 1, ')': 2, '*': 4, '+': 3, '-': 3, '/': 4, ';': 0}\n",
      "    RIGHT = 3\n",
      "    UP = 0\n",
      "    argv = ['/home/kar913/.local/lib/python3.10/site-packages/ipykernel_la...\n",
      "    ascii_letters = 'abcdefghijklmnopqrstuvwxyzABCDEFGHIJKLMNOPQRSTUVWXYZ'\n",
      "    print_function = _Feature((2, 6, 0, 'alpha', 2), (3, 0, 0, 'alpha', 0)...\n",
      "    reflex = [[3, 1], [2, 0], [1, 3], [0, 2]]\n",
      "    roman = [['', 'I', 'II', 'III', 'IV', 'V', 'VI', 'VII', 'VIII', 'IX'],...\n",
      "    stdin = <_io.TextIOWrapper name='<stdin>' mode='r' encoding='utf-8'>\n",
      "\n",
      "FILE\n",
      "    /home/kar913/.local/lib/python3.10/site-packages/tryalgo/__init__.py\n",
      "\n",
      "\n"
     ]
    }
   ],
   "source": [
    "import tryalgo\n",
    "help(tryalgo)"
   ]
  },
  {
   "cell_type": "code",
   "execution_count": 17,
   "id": "c666989c",
   "metadata": {},
   "outputs": [],
   "source": [
    "from collections import Counter\n",
    "c = Counter()\n",
    "c['a'] += 1"
   ]
  },
  {
   "cell_type": "code",
   "execution_count": 19,
   "id": "3ca19503",
   "metadata": {},
   "outputs": [
    {
     "data": {
      "text/plain": [
       "Counter({'c': 1, 'o': 3, 'w': 1, 'b': 3, 'y': 1, ' ': 1, 'e': 1, 'p': 1})"
      ]
     },
     "execution_count": 19,
     "metadata": {},
     "output_type": "execute_result"
    }
   ],
   "source": [
    "c = Counter('cowboy bebop')\n",
    "c"
   ]
  },
  {
   "cell_type": "code",
   "execution_count": 20,
   "id": "720f9b86",
   "metadata": {},
   "outputs": [
    {
     "data": {
      "text/plain": [
       "defaultdict(list, {'paris': ['marseille', 'lyon']})"
      ]
     },
     "execution_count": 20,
     "metadata": {},
     "output_type": "execute_result"
    }
   ],
   "source": [
    "from collections import defaultdict\n",
    "g=defaultdict(list)\n",
    "g['paris'].append('marseille')\n",
    "g['paris'].append('lyon')\n",
    "g"
   ]
  },
  {
   "cell_type": "code",
   "execution_count": null,
   "id": "02786dc0",
   "metadata": {},
   "outputs": [],
   "source": []
  }
 ],
 "metadata": {
  "kernelspec": {
   "display_name": "Python 3 (ipykernel)",
   "language": "python",
   "name": "python3"
  },
  "language_info": {
   "codemirror_mode": {
    "name": "ipython",
    "version": 3
   },
   "file_extension": ".py",
   "mimetype": "text/x-python",
   "name": "python",
   "nbconvert_exporter": "python",
   "pygments_lexer": "ipython3",
   "version": "3.10.6"
  }
 },
 "nbformat": 4,
 "nbformat_minor": 5
}
