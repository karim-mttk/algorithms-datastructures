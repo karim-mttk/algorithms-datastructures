{
 "cells": [
  {
   "cell_type": "markdown",
   "id": "76c5e005",
   "metadata": {},
   "source": [
    "## Part1: "
   ]
  },
  {
   "cell_type": "code",
   "execution_count": 1,
   "id": "1eba89fb",
   "metadata": {},
   "outputs": [
    {
     "name": "stdout",
     "output_type": "stream",
     "text": [
      "1\n",
      "2\n",
      "3\n",
      "4\n",
      "5\n",
      "6\n",
      "7\n",
      "8\n"
     ]
    }
   ],
   "source": [
    "L=[1,2,3,4,5,6,7,8]\n",
    "for index in range(len(L)):\n",
    "    value = L[index]\n",
    "    print(value)"
   ]
  },
  {
   "cell_type": "code",
   "execution_count": 2,
   "id": "82fda37c",
   "metadata": {},
   "outputs": [
    {
     "name": "stdout",
     "output_type": "stream",
     "text": [
      "0 1\n",
      "1 2\n",
      "2 3\n",
      "3 4\n",
      "4 5\n",
      "5 6\n",
      "6 7\n",
      "7 8\n"
     ]
    }
   ],
   "source": [
    "for index, value in enumerate(L):\n",
    "    print(index, value)"
   ]
  },
  {
   "cell_type": "code",
   "execution_count": 8,
   "id": "3c0ff21b",
   "metadata": {},
   "outputs": [
    {
     "name": "stdout",
     "output_type": "stream",
     "text": [
      "Fruit: apple -> amount: 2\n",
      "Fruit: orange -> amount: 4\n",
      "Fruit: melon -> amount: 2\n",
      "Fruit: banana -> amount: 5\n",
      "Fruit: coconut -> amount: 1\n",
      "Fruit: mango -> amount: 7\n"
     ]
    }
   ],
   "source": [
    "dic = {'apple':2, 'orange':4, 'melon':2, 'banana':5, 'coconut':1, 'mango':7}\n",
    "for key, value in dic.items():\n",
    "    print('Fruit:', key,'->', 'amount:', value)"
   ]
  },
  {
   "cell_type": "code",
   "execution_count": 9,
   "id": "22744482",
   "metadata": {},
   "outputs": [
    {
     "data": {
      "text/plain": [
       "[0, 1, 4, 9, 16, 25]"
      ]
     },
     "execution_count": 9,
     "metadata": {},
     "output_type": "execute_result"
    }
   ],
   "source": [
    "#list comprehension\n",
    "n=5\n",
    "squared= [x**2 for x in range(n+1)]\n",
    "squared"
   ]
  },
  {
   "cell_type": "code",
   "execution_count": 11,
   "id": "855d3dc8",
   "metadata": {},
   "outputs": [
    {
     "data": {
      "text/plain": [
       "{'c': 0, 'o': 0, 'w': 0, 'b': 0, 'y': 0, ' ': 0, 'e': 0, 'p': 0}"
      ]
     },
     "execution_count": 11,
     "metadata": {},
     "output_type": "execute_result"
    }
   ],
   "source": [
    "my_str=\"cowboy bebop\"\n",
    "nb_occurences = {letter: 0 for letter in my_str}\n",
    "nb_occurences"
   ]
  },
  {
   "cell_type": "code",
   "execution_count": 12,
   "id": "fc2e94d1",
   "metadata": {},
   "outputs": [
    {
     "data": {
      "text/plain": [
       "2.0"
      ]
     },
     "execution_count": 12,
     "metadata": {},
     "output_type": "execute_result"
    }
   ],
   "source": [
    "from math import sqrt\n",
    "sqrt(4)"
   ]
  },
  {
   "cell_type": "code",
   "execution_count": 13,
   "id": "b41eb100",
   "metadata": {},
   "outputs": [
    {
     "data": {
      "text/plain": [
       "2.0"
      ]
     },
     "execution_count": 13,
     "metadata": {},
     "output_type": "execute_result"
    }
   ],
   "source": [
    "import math\n",
    "math.sqrt(4)"
   ]
  },
  {
   "cell_type": "code",
   "execution_count": 14,
   "id": "9fd129d8",
   "metadata": {},
   "outputs": [
    {
     "name": "stdout",
     "output_type": "stream",
     "text": [
      "Help on package tryalgo:\n",
      "\n",
      "NAME\n",
      "    tryalgo\n",
      "\n",
      "DESCRIPTION\n",
      "    Tryalgo is a Python library of algorithms and data structures.\n",
      "    It is implemented\n",
      "    by Christoph Dürr (CNRS, Sorbonne Université, LIP6, Paris)\n",
      "    and Jill-Jênn Vie (Inria, Lille)\n",
      "    It is documented in the book \"Programmation efficace, 128 Algorithmes qu'il\n",
      "    faut avoir compris et codés en Python\", editor Ellipses.\n",
      "\n",
      "PACKAGE CONTENTS\n",
      "    anagrams\n",
      "    arithm\n",
      "    arithm_expr_eval\n",
      "    arithm_expr_target\n",
      "    bellman_ford\n",
      "    bfs\n",
      "    biconnected_components\n",
      "    binary_search\n",
      "    bipartite_matching\n",
      "    bipartite_vertex_cover\n",
      "    closest_points\n",
      "    closest_values\n",
      "    convex_hull\n",
      "    dancing_links\n",
      "    dfs\n",
      "    dijkstra\n",
      "    dilworth\n",
      "    dinic\n",
      "    dist_grid\n",
      "    edmonds_karp\n",
      "    eulerian_tour\n",
      "    fast_exponentiation\n",
      "    fenwick\n",
      "    fft\n",
      "    floyd_warshall\n",
      "    ford_fulkerson\n",
      "    freivalds\n",
      "    gale_shapley\n",
      "    gauss_jordan\n",
      "    graph\n",
      "    graph01\n",
      "    horn_sat\n",
      "    huffman\n",
      "    interval_cover\n",
      "    interval_tree\n",
      "    intervals_union\n",
      "    karatsuba\n",
      "    knapsack\n",
      "    knuth_morris_pratt\n",
      "    kruskal\n",
      "    kuhn_munkres\n",
      "    kuhn_munkres_n4\n",
      "    laser_mirrors\n",
      "    left_right_inversions\n",
      "    levenshtein\n",
      "    longest_common_subsequence\n",
      "    longest_increasing_subsequence\n",
      "    lowest_common_ancestor\n",
      "    majority\n",
      "    manacher\n",
      "    matrix_chain_mult\n",
      "    max_interval_intersec\n",
      "    merge_ordered_lists\n",
      "    min_mean_cycle\n",
      "    next_permutation\n",
      "    our_heap\n",
      "    our_queue\n",
      "    our_std\n",
      "    pareto\n",
      "    partition_refinement\n",
      "    permutation_rank\n",
      "    polygon\n",
      "    predictive_text\n",
      "    primes\n",
      "    rabin_karp\n",
      "    range_minimum_query\n",
      "    rectangles_from_grid\n",
      "    rectangles_from_histogram\n",
      "    rectangles_from_points\n",
      "    roman_numbers\n",
      "    scalar\n",
      "    shortest_cycle\n",
      "    skip_list\n",
      "    strongly_connected_components\n",
      "    subsetsum\n",
      "    subsetsum_divide\n",
      "    sudoku\n",
      "    three_partition\n",
      "    topological_order\n",
      "    trie\n",
      "    two_sat\n",
      "    union_rectangles\n",
      "    windows_k_distinct\n",
      "\n",
      "FUNCTIONS\n",
      "    bisect_left(a, x, lo=0, hi=None, *, key=None)\n",
      "        Return the index where to insert item x in list a, assuming a is sorted.\n",
      "        \n",
      "        The return value i is such that all e in a[:i] have e < x, and all e in\n",
      "        a[i:] have e >= x.  So if x already appears in the list, a.insert(i, x) will\n",
      "        insert just before the leftmost x already there.\n",
      "        \n",
      "        Optional args lo (default 0) and hi (default len(a)) bound the\n",
      "        slice of a to be searched.\n",
      "    \n",
      "    bisect_right(a, x, lo=0, hi=None, *, key=None)\n",
      "        Return the index where to insert item x in list a, assuming a is sorted.\n",
      "        \n",
      "        The return value i is such that all e in a[:i] have e <= x, and all e in\n",
      "        a[i:] have e > x.  So if x already appears in the list, a.insert(i, x) will\n",
      "        insert just after the rightmost x already there.\n",
      "        \n",
      "        Optional args lo (default 0) and hi (default len(a)) bound the\n",
      "        slice of a to be searched.\n",
      "    \n",
      "    getrecursionlimit()\n",
      "        Return the current value of the recursion limit.\n",
      "        \n",
      "        The recursion limit is the maximum depth of the Python interpreter\n",
      "        stack.  This limit prevents infinite recursion from causing an overflow\n",
      "        of the C stack and crashing Python.\n",
      "    \n",
      "    heappop(heap, /)\n",
      "        Pop the smallest item off the heap, maintaining the heap invariant.\n",
      "    \n",
      "    heappush(heap, item, /)\n",
      "        Push item onto heap, maintaining the heap invariant.\n",
      "    \n",
      "    setrecursionlimit(limit, /)\n",
      "        Set the maximum depth of the Python interpreter stack to n.\n",
      "        \n",
      "        This limit prevents infinite recursion from causing an overflow of the C\n",
      "        stack and crashing Python.  The highest possible limit is platform-\n",
      "        dependent.\n",
      "    \n",
      "    sqrt(x, /)\n",
      "        Return the square root of x.\n",
      "\n",
      "DATA\n",
      "    CLOSING = -1\n",
      "    DOMAIN = 128\n",
      "    DOWN = 2\n",
      "    GJ_SEVERAL_SOLUTIONS = 2\n",
      "    GJ_SINGLE_SOLUTION = 1\n",
      "    GJ_ZERO_SOLUTIONS = 0\n",
      "    LEFT = 1\n",
      "    OPENING = 1\n",
      "    PRIME = 72057594037927931\n",
      "    PRIORITY = {'(': 1, ')': 2, '*': 4, '+': 3, '-': 3, '/': 4, ';': 0}\n",
      "    RIGHT = 3\n",
      "    UP = 0\n",
      "    argv = ['/home/kar913/.local/lib/python3.10/site-packages/ipykernel_la...\n",
      "    ascii_letters = 'abcdefghijklmnopqrstuvwxyzABCDEFGHIJKLMNOPQRSTUVWXYZ'\n",
      "    print_function = _Feature((2, 6, 0, 'alpha', 2), (3, 0, 0, 'alpha', 0)...\n",
      "    reflex = [[3, 1], [2, 0], [1, 3], [0, 2]]\n",
      "    roman = [['', 'I', 'II', 'III', 'IV', 'V', 'VI', 'VII', 'VIII', 'IX'],...\n",
      "    stdin = <_io.TextIOWrapper name='<stdin>' mode='r' encoding='utf-8'>\n",
      "\n",
      "FILE\n",
      "    /home/kar913/.local/lib/python3.10/site-packages/tryalgo/__init__.py\n",
      "\n",
      "\n"
     ]
    }
   ],
   "source": [
    "import tryalgo\n",
    "help(tryalgo)"
   ]
  },
  {
   "cell_type": "code",
   "execution_count": 17,
   "id": "c666989c",
   "metadata": {},
   "outputs": [],
   "source": [
    "from collections import Counter\n",
    "c = Counter()\n",
    "c['a'] += 1"
   ]
  },
  {
   "cell_type": "code",
   "execution_count": 19,
   "id": "3ca19503",
   "metadata": {},
   "outputs": [
    {
     "data": {
      "text/plain": [
       "Counter({'c': 1, 'o': 3, 'w': 1, 'b': 3, 'y': 1, ' ': 1, 'e': 1, 'p': 1})"
      ]
     },
     "execution_count": 19,
     "metadata": {},
     "output_type": "execute_result"
    }
   ],
   "source": [
    "c = Counter('cowboy bebop')\n",
    "c"
   ]
  },
  {
   "cell_type": "code",
   "execution_count": 20,
   "id": "720f9b86",
   "metadata": {},
   "outputs": [
    {
     "data": {
      "text/plain": [
       "defaultdict(list, {'paris': ['marseille', 'lyon']})"
      ]
     },
     "execution_count": 20,
     "metadata": {},
     "output_type": "execute_result"
    }
   ],
   "source": [
    "from collections import defaultdict\n",
    "g=defaultdict(list)\n",
    "g['paris'].append('marseille')\n",
    "g['paris'].append('lyon')\n",
    "g"
   ]
  },
  {
   "cell_type": "code",
   "execution_count": 1,
   "id": "02786dc0",
   "metadata": {},
   "outputs": [],
   "source": [
    "def majortiy(L):\n",
    "    count = {}\n",
    "    for word in L:\n",
    "        if word in count:\n",
    "            count[word] += 1\n",
    "        else:\n",
    "            count[word] = 1\n",
    "    val_1st_max, arg_1st_max = min((-count[word], word) for word in count)\n",
    "    return arg_1st_max"
   ]
  },
  {
   "cell_type": "code",
   "execution_count": 2,
   "id": "a7d38f4a",
   "metadata": {},
   "outputs": [],
   "source": [
    "def closest_values(L):\n",
    "    assert len(L) >= 2\n",
    "    L.sort()\n",
    "    valmin, argmin = min((L[i] - L[i -1], i) for i in range(1, len(L)))\n",
    "    return L[argmin - 1], L[argmin]"
   ]
  },
  {
   "cell_type": "markdown",
   "id": "2d40972e",
   "metadata": {},
   "source": [
    "# Part2:"
   ]
  },
  {
   "cell_type": "markdown",
   "id": "7ffccf0c",
   "metadata": {},
   "source": [
    "## Number Theory: Sum of n numbers, GCD and LCM"
   ]
  },
  {
   "cell_type": "code",
   "execution_count": 20,
   "id": "ffda5550",
   "metadata": {},
   "outputs": [],
   "source": [
    "#with time complexity of n, iterating from 1 to n\n",
    "#example: n=5 \n",
    "# 1+2+3+4+5=15\n",
    "def sum2(n):\n",
    "    sm = 0\n",
    "    #form 1 to n:\n",
    "    for i in range(1,n+1):\n",
    "        sm = sm + i\n",
    "    return sm    "
   ]
  },
  {
   "cell_type": "code",
   "execution_count": 21,
   "id": "323d53ab",
   "metadata": {},
   "outputs": [],
   "source": [
    "#time complexity of O(1):\n",
    "#using summation\n",
    "def sum1(n):\n",
    "    return (n*(n+1))//2\n",
    "    "
   ]
  },
  {
   "cell_type": "code",
   "execution_count": 22,
   "id": "aa0af8b1",
   "metadata": {},
   "outputs": [
    {
     "name": "stdout",
     "output_type": "stream",
     "text": [
      "select number of tries:\n",
      "2\n",
      "Select 'n':\n",
      "10\n",
      "sum1 executed! output: 55\n",
      "sum2 executed! output: 55\n",
      "Select 'n':\n",
      "100057895621\n",
      "sum1 executed! output: 5005791238101494435631\n"
     ]
    },
    {
     "ename": "KeyboardInterrupt",
     "evalue": "",
     "output_type": "error",
     "traceback": [
      "\u001b[0;31m---------------------------------------------------------------------------\u001b[0m",
      "\u001b[0;31mKeyboardInterrupt\u001b[0m                         Traceback (most recent call last)",
      "Cell \u001b[0;32mIn[22], line 7\u001b[0m\n\u001b[1;32m      5\u001b[0m n \u001b[38;5;241m=\u001b[39m \u001b[38;5;28mint\u001b[39m(\u001b[38;5;28minput\u001b[39m())\n\u001b[1;32m      6\u001b[0m \u001b[38;5;28mprint\u001b[39m(\u001b[38;5;124m\"\u001b[39m\u001b[38;5;124msum1 executed! output: \u001b[39m\u001b[38;5;132;01m{}\u001b[39;00m\u001b[38;5;124m\"\u001b[39m\u001b[38;5;241m.\u001b[39mformat(sum1(n)))\n\u001b[0;32m----> 7\u001b[0m \u001b[38;5;28mprint\u001b[39m(\u001b[38;5;124m\"\u001b[39m\u001b[38;5;124msum2 executed! output: \u001b[39m\u001b[38;5;132;01m{}\u001b[39;00m\u001b[38;5;124m\"\u001b[39m\u001b[38;5;241m.\u001b[39mformat(\u001b[43msum2\u001b[49m\u001b[43m(\u001b[49m\u001b[43mn\u001b[49m\u001b[43m)\u001b[49m))\n\u001b[1;32m      8\u001b[0m t\u001b[38;5;241m=\u001b[39mt\u001b[38;5;241m-\u001b[39m\u001b[38;5;241m1\u001b[39m\n",
      "Cell \u001b[0;32mIn[20], line 8\u001b[0m, in \u001b[0;36msum2\u001b[0;34m(n)\u001b[0m\n\u001b[1;32m      6\u001b[0m \u001b[38;5;66;03m#form 1 to n:\u001b[39;00m\n\u001b[1;32m      7\u001b[0m \u001b[38;5;28;01mfor\u001b[39;00m i \u001b[38;5;129;01min\u001b[39;00m \u001b[38;5;28mrange\u001b[39m(\u001b[38;5;241m1\u001b[39m,n\u001b[38;5;241m+\u001b[39m\u001b[38;5;241m1\u001b[39m):\n\u001b[0;32m----> 8\u001b[0m     sm \u001b[38;5;241m=\u001b[39m sm \u001b[38;5;241m+\u001b[39m i\n\u001b[1;32m      9\u001b[0m \u001b[38;5;28;01mreturn\u001b[39;00m sm\n",
      "\u001b[0;31mKeyboardInterrupt\u001b[0m: "
     ]
    }
   ],
   "source": [
    "print(\"select number of tries:\")\n",
    "t = int(input())\n",
    "while t:\n",
    "    print(\"Select 'n':\")\n",
    "    n = int(input())\n",
    "    print(\"sum1 executed! output: {}\".format(sum1(n)))\n",
    "    print(\"sum2 executed! output: {}\".format(sum2(n)))\n",
    "    t=t-1"
   ]
  },
  {
   "cell_type": "markdown",
   "id": "4d8e9028",
   "metadata": {},
   "source": [
    "From the two different summation programs tested above it seems that sum1 with the summation function has a lower runtime of O(1) compared to the individual element iteration of O(n)"
   ]
  },
  {
   "cell_type": "code",
   "execution_count": 32,
   "id": "b10ba812",
   "metadata": {},
   "outputs": [],
   "source": [
    "#Euclidean algorithm\n",
    "#Time = O(log(min(a,b)))\n",
    "# product = lcm * gcd\n",
    "def gcd(a,b):\n",
    "    if a == 0:\n",
    "        return b\n",
    "    return gcd(b%a, a)"
   ]
  },
  {
   "cell_type": "code",
   "execution_count": 30,
   "id": "501b6ad5",
   "metadata": {},
   "outputs": [],
   "source": [
    "def lcm(a,b):\n",
    "    prod = a*b\n",
    "    hcf = gcd(a,b)\n",
    "    return prod // hcf "
   ]
  },
  {
   "cell_type": "code",
   "execution_count": 33,
   "id": "e1b1e80c",
   "metadata": {},
   "outputs": [
    {
     "name": "stdout",
     "output_type": "stream",
     "text": [
      "select number of tries:\n",
      "2\n",
      "Select 'n','m':\n",
      "5 10\n",
      "gcd: 5, lcm = 10\n",
      "Select 'n','m':\n"
     ]
    },
    {
     "ename": "KeyboardInterrupt",
     "evalue": "Interrupted by user",
     "output_type": "error",
     "traceback": [
      "\u001b[0;31m---------------------------------------------------------------------------\u001b[0m",
      "\u001b[0;31mKeyboardInterrupt\u001b[0m                         Traceback (most recent call last)",
      "Cell \u001b[0;32mIn[33], line 5\u001b[0m\n\u001b[1;32m      3\u001b[0m \u001b[38;5;28;01mwhile\u001b[39;00m t:\n\u001b[1;32m      4\u001b[0m     \u001b[38;5;28mprint\u001b[39m(\u001b[38;5;124m\"\u001b[39m\u001b[38;5;124mSelect \u001b[39m\u001b[38;5;124m'\u001b[39m\u001b[38;5;124mn\u001b[39m\u001b[38;5;124m'\u001b[39m\u001b[38;5;124m,\u001b[39m\u001b[38;5;124m'\u001b[39m\u001b[38;5;124mm\u001b[39m\u001b[38;5;124m'\u001b[39m\u001b[38;5;124m:\u001b[39m\u001b[38;5;124m\"\u001b[39m)\n\u001b[0;32m----> 5\u001b[0m     n,m \u001b[38;5;241m=\u001b[39m \u001b[38;5;28mmap\u001b[39m(\u001b[38;5;28mint\u001b[39m,\u001b[38;5;28;43minput\u001b[39;49m\u001b[43m(\u001b[49m\u001b[43m)\u001b[49m\u001b[38;5;241m.\u001b[39msplit())\n\u001b[1;32m      6\u001b[0m     \u001b[38;5;28mprint\u001b[39m(\u001b[38;5;124m\"\u001b[39m\u001b[38;5;124mgcd: \u001b[39m\u001b[38;5;132;01m{}\u001b[39;00m\u001b[38;5;124m, lcm = \u001b[39m\u001b[38;5;132;01m{}\u001b[39;00m\u001b[38;5;124m\"\u001b[39m\u001b[38;5;241m.\u001b[39mformat(gcd(n,m), lcm(n,m)))\n\u001b[1;32m      7\u001b[0m     t\u001b[38;5;241m=\u001b[39mt\u001b[38;5;241m-\u001b[39m\u001b[38;5;241m1\u001b[39m\n",
      "File \u001b[0;32m~/.local/lib/python3.10/site-packages/ipykernel/kernelbase.py:1191\u001b[0m, in \u001b[0;36mKernel.raw_input\u001b[0;34m(self, prompt)\u001b[0m\n\u001b[1;32m   1189\u001b[0m     msg \u001b[38;5;241m=\u001b[39m \u001b[38;5;124m\"\u001b[39m\u001b[38;5;124mraw_input was called, but this frontend does not support input requests.\u001b[39m\u001b[38;5;124m\"\u001b[39m\n\u001b[1;32m   1190\u001b[0m     \u001b[38;5;28;01mraise\u001b[39;00m StdinNotImplementedError(msg)\n\u001b[0;32m-> 1191\u001b[0m \u001b[38;5;28;01mreturn\u001b[39;00m \u001b[38;5;28;43mself\u001b[39;49m\u001b[38;5;241;43m.\u001b[39;49m\u001b[43m_input_request\u001b[49m\u001b[43m(\u001b[49m\n\u001b[1;32m   1192\u001b[0m \u001b[43m    \u001b[49m\u001b[38;5;28;43mstr\u001b[39;49m\u001b[43m(\u001b[49m\u001b[43mprompt\u001b[49m\u001b[43m)\u001b[49m\u001b[43m,\u001b[49m\n\u001b[1;32m   1193\u001b[0m \u001b[43m    \u001b[49m\u001b[38;5;28;43mself\u001b[39;49m\u001b[38;5;241;43m.\u001b[39;49m\u001b[43m_parent_ident\u001b[49m\u001b[43m[\u001b[49m\u001b[38;5;124;43m\"\u001b[39;49m\u001b[38;5;124;43mshell\u001b[39;49m\u001b[38;5;124;43m\"\u001b[39;49m\u001b[43m]\u001b[49m\u001b[43m,\u001b[49m\n\u001b[1;32m   1194\u001b[0m \u001b[43m    \u001b[49m\u001b[38;5;28;43mself\u001b[39;49m\u001b[38;5;241;43m.\u001b[39;49m\u001b[43mget_parent\u001b[49m\u001b[43m(\u001b[49m\u001b[38;5;124;43m\"\u001b[39;49m\u001b[38;5;124;43mshell\u001b[39;49m\u001b[38;5;124;43m\"\u001b[39;49m\u001b[43m)\u001b[49m\u001b[43m,\u001b[49m\n\u001b[1;32m   1195\u001b[0m \u001b[43m    \u001b[49m\u001b[43mpassword\u001b[49m\u001b[38;5;241;43m=\u001b[39;49m\u001b[38;5;28;43;01mFalse\u001b[39;49;00m\u001b[43m,\u001b[49m\n\u001b[1;32m   1196\u001b[0m \u001b[43m\u001b[49m\u001b[43m)\u001b[49m\n",
      "File \u001b[0;32m~/.local/lib/python3.10/site-packages/ipykernel/kernelbase.py:1234\u001b[0m, in \u001b[0;36mKernel._input_request\u001b[0;34m(self, prompt, ident, parent, password)\u001b[0m\n\u001b[1;32m   1231\u001b[0m \u001b[38;5;28;01mexcept\u001b[39;00m \u001b[38;5;167;01mKeyboardInterrupt\u001b[39;00m:\n\u001b[1;32m   1232\u001b[0m     \u001b[38;5;66;03m# re-raise KeyboardInterrupt, to truncate traceback\u001b[39;00m\n\u001b[1;32m   1233\u001b[0m     msg \u001b[38;5;241m=\u001b[39m \u001b[38;5;124m\"\u001b[39m\u001b[38;5;124mInterrupted by user\u001b[39m\u001b[38;5;124m\"\u001b[39m\n\u001b[0;32m-> 1234\u001b[0m     \u001b[38;5;28;01mraise\u001b[39;00m \u001b[38;5;167;01mKeyboardInterrupt\u001b[39;00m(msg) \u001b[38;5;28;01mfrom\u001b[39;00m \u001b[38;5;28mNone\u001b[39m\n\u001b[1;32m   1235\u001b[0m \u001b[38;5;28;01mexcept\u001b[39;00m \u001b[38;5;167;01mException\u001b[39;00m:\n\u001b[1;32m   1236\u001b[0m     \u001b[38;5;28mself\u001b[39m\u001b[38;5;241m.\u001b[39mlog\u001b[38;5;241m.\u001b[39mwarning(\u001b[38;5;124m\"\u001b[39m\u001b[38;5;124mInvalid Message:\u001b[39m\u001b[38;5;124m\"\u001b[39m, exc_info\u001b[38;5;241m=\u001b[39m\u001b[38;5;28;01mTrue\u001b[39;00m)\n",
      "\u001b[0;31mKeyboardInterrupt\u001b[0m: Interrupted by user"
     ]
    }
   ],
   "source": [
    "print(\"select number of tries:\")\n",
    "t = int(input())\n",
    "while t:\n",
    "    print(\"Select 'n','m':\")\n",
    "    n,m = map(int,input().split())\n",
    "    print(\"gcd: {}, lcm: {}\".format(gcd(n,m), lcm(n,m)))\n",
    "    t=t-1"
   ]
  },
  {
   "cell_type": "code",
   "execution_count": null,
   "id": "5450e42b",
   "metadata": {},
   "outputs": [],
   "source": []
  }
 ],
 "metadata": {
  "kernelspec": {
   "display_name": "Python 3 (ipykernel)",
   "language": "python",
   "name": "python3"
  },
  "language_info": {
   "codemirror_mode": {
    "name": "ipython",
    "version": 3
   },
   "file_extension": ".py",
   "mimetype": "text/x-python",
   "name": "python",
   "nbconvert_exporter": "python",
   "pygments_lexer": "ipython3",
   "version": "3.10.6"
  }
 },
 "nbformat": 4,
 "nbformat_minor": 5
}
